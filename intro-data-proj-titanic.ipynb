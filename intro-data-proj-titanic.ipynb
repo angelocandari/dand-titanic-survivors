{
 "cells": [
  {
   "cell_type": "markdown",
   "metadata": {
    "nbpresent": {
     "id": "b965ebb4-cfec-494e-a51d-6cc3798eafef"
    }
   },
   "source": [
    "# Titanic Survivability\n",
    "## Introduction\n",
    "<p>On 15 April 1912, Titanic, the largest ship of its time, sank after hitting an iceberg in the North Atlantic Ocean. Of the 2,224 people estimated on board, only 705 survived. Although limited, there were enough lifeboats to save 1,178 people and yet fewer made it.</p>\n",
    "\n",
    "## Questions\n",
    "<p>How likely would a passenger survive the tragedy?</p>\n",
    "\n",
    "- If you are rich, would you most likely be prioritized?\n",
    "- \"Women and Children First\". Does your age or gender influence your chances of survivability?\n",
    "    \n",
    "### Objectives\n",
    "<p>This study analyzes the likelihood of survivability of passengers on board of the Titanic. The analysis is divided according to Demographics and Social Economic Status. The former will be based on Gender and Age and the latter will be based on Ticket Class and Fare.</p>\n",
    "\n",
    "### Variables\n",
    "Dependent Variable: If the passenger survived or not. <br>\n",
    "Independent Variables: 1. Gender 2. Age 3. Ticket Class 4. Fare. <br>\n",
    "Null Hypothesis: The likelihood of surviving the event are not influenced by demographics and socio economic status. <br> \n",
    "Hypothesis: The likelihood of survival is influenced by the demographics and socio economic status of the passengers."
   ]
  },
  {
   "cell_type": "markdown",
   "metadata": {
    "nbpresent": {
     "id": "97b004bf-4f22-445f-a251-ad27afb7501a"
    }
   },
   "source": [
    "#### Data Wrangling\n",
    "### Data Acquisition\n",
    "<p>The data provided is a list of names of 891 of the 2,224 passengers with the corresponding information for each on board. Below is the Data Dictionary of the data set from [Kaggle](https://www.kaggle.com/c/titanic/data).</p>\n",
    "\n",
    "- survival: Survival (0 = No, 1 = Yes)\n",
    "- pclass: Ticket class (1st = Upper, 2nd = Middle, 3rd = Lower)\n",
    "- sex: Sex\n",
    "- Age: Age in years (Age is fractional if less than 1. If the age is estimated, is it in the form of xx.5)\n",
    "- sibsp: # of siblings / spouse aboard the Titanic (Sibling = brother, sister, stepbrother, stepsister, Spouse = husband, wife (mistresses and fiancés were ignored))\n",
    "- parch: # of parents / children aboard the Titanic (Parent = mother, father, Child = daughter, son, stepdaughter, stepson, Some children travelled only with a nanny, therefore parch=0 for them.)\n",
    "- ticket: Ticket number\n",
    "- fare: Passenger fare\n",
    "- cabin: Cabin number\n",
    "- embarked: Port of Embarkation (C = Cherbourg, Q = Queenstown, S = Southampton)"
   ]
  },
  {
   "cell_type": "code",
   "execution_count": 4,
   "metadata": {
    "collapsed": false,
    "nbpresent": {
     "id": "253cad34-af7f-482e-9fa3-b85afbc8bad9"
    }
   },
   "outputs": [],
   "source": [
    "import pandas as pd\n",
    "import numpy as np\n",
    "\n",
    "titanic_df = pd.read_csv('titanic-data.csv') # Read CSV and stores in to titanic_df variable."
   ]
  },
  {
   "cell_type": "markdown",
   "metadata": {
    "nbpresent": {
     "id": "107da756-ff93-4e40-9c0e-92ccbd968da3"
    }
   },
   "source": [
    "### Data Cleaning\n",
    "<p>Once my file is loaded, I check if there are duplicate values in any of the column that could affect the analysis. I am also looking for inconsistencies in values, data type or missing values that may affect the investigation.</p>"
   ]
  },
  {
   "cell_type": "code",
   "execution_count": 5,
   "metadata": {
    "collapsed": false,
    "nbpresent": {
     "id": "6407e209-946d-478a-af79-a0987c6d20a2"
    }
   },
   "outputs": [
    {
     "name": "stdout",
     "output_type": "stream",
     "text": [
      "0\n",
      "0\n",
      "210\n"
     ]
    }
   ],
   "source": [
    "# PassengerId and Name must be unique. I check if there are any duplicate values in each col.\n",
    "# There are no duplicates on the data.\n",
    "print titanic_df.duplicated('PassengerId').sum()\n",
    "print titanic_df.duplicated('Name').sum()\n",
    "# I also check if the Ticket # is unique. Turns out that the Ticket isn't unique for each passenger.\n",
    "# Seems odd and I will take note and come back to it if needed.\n",
    "print titanic_df.duplicated('Ticket').sum()"
   ]
  },
  {
   "cell_type": "code",
   "execution_count": 6,
   "metadata": {
    "collapsed": false,
    "nbpresent": {
     "id": "f6ac47b4-6059-4202-92ef-ecddcbdb0f39"
    },
    "scrolled": true
   },
   "outputs": [
    {
     "data": {
      "text/plain": [
       "PassengerId      int64\n",
       "Survived         int64\n",
       "Pclass           int64\n",
       "Name            object\n",
       "Sex             object\n",
       "Age            float64\n",
       "SibSp            int64\n",
       "Parch            int64\n",
       "Ticket          object\n",
       "Fare           float64\n",
       "Cabin           object\n",
       "Embarked        object\n",
       "dtype: object"
      ]
     },
     "execution_count": 6,
     "metadata": {},
     "output_type": "execute_result"
    }
   ],
   "source": [
    "# I check the data type of each column for any inconsistencies. Seems odd to have Age as an float64.\n",
    "# I investigate and print out a couple of rows with non-whole number age.\n",
    "titanic_df.dtypes"
   ]
  },
  {
   "cell_type": "code",
   "execution_count": 7,
   "metadata": {
    "collapsed": false,
    "nbpresent": {
     "id": "c86c3685-daff-41de-8928-6bb388eb3129"
    },
    "scrolled": false
   },
   "outputs": [
    {
     "data": {
      "text/html": [
       "<div>\n",
       "<table border=\"1\" class=\"dataframe\">\n",
       "  <thead>\n",
       "    <tr style=\"text-align: right;\">\n",
       "      <th></th>\n",
       "      <th>PassengerId</th>\n",
       "      <th>Survived</th>\n",
       "      <th>Pclass</th>\n",
       "      <th>Name</th>\n",
       "      <th>Sex</th>\n",
       "      <th>Age</th>\n",
       "      <th>SibSp</th>\n",
       "      <th>Parch</th>\n",
       "      <th>Ticket</th>\n",
       "      <th>Fare</th>\n",
       "      <th>Cabin</th>\n",
       "      <th>Embarked</th>\n",
       "    </tr>\n",
       "  </thead>\n",
       "  <tbody>\n",
       "    <tr>\n",
       "      <th>78</th>\n",
       "      <td>79</td>\n",
       "      <td>1</td>\n",
       "      <td>2</td>\n",
       "      <td>Caldwell, Master. Alden Gates</td>\n",
       "      <td>male</td>\n",
       "      <td>0.83</td>\n",
       "      <td>0</td>\n",
       "      <td>2</td>\n",
       "      <td>248738</td>\n",
       "      <td>29.0000</td>\n",
       "      <td>NaN</td>\n",
       "      <td>S</td>\n",
       "    </tr>\n",
       "    <tr>\n",
       "      <th>305</th>\n",
       "      <td>306</td>\n",
       "      <td>1</td>\n",
       "      <td>1</td>\n",
       "      <td>Allison, Master. Hudson Trevor</td>\n",
       "      <td>male</td>\n",
       "      <td>0.92</td>\n",
       "      <td>1</td>\n",
       "      <td>2</td>\n",
       "      <td>113781</td>\n",
       "      <td>151.5500</td>\n",
       "      <td>C22 C26</td>\n",
       "      <td>S</td>\n",
       "    </tr>\n",
       "    <tr>\n",
       "      <th>469</th>\n",
       "      <td>470</td>\n",
       "      <td>1</td>\n",
       "      <td>3</td>\n",
       "      <td>Baclini, Miss. Helene Barbara</td>\n",
       "      <td>female</td>\n",
       "      <td>0.75</td>\n",
       "      <td>2</td>\n",
       "      <td>1</td>\n",
       "      <td>2666</td>\n",
       "      <td>19.2583</td>\n",
       "      <td>NaN</td>\n",
       "      <td>C</td>\n",
       "    </tr>\n",
       "    <tr>\n",
       "      <th>644</th>\n",
       "      <td>645</td>\n",
       "      <td>1</td>\n",
       "      <td>3</td>\n",
       "      <td>Baclini, Miss. Eugenie</td>\n",
       "      <td>female</td>\n",
       "      <td>0.75</td>\n",
       "      <td>2</td>\n",
       "      <td>1</td>\n",
       "      <td>2666</td>\n",
       "      <td>19.2583</td>\n",
       "      <td>NaN</td>\n",
       "      <td>C</td>\n",
       "    </tr>\n",
       "    <tr>\n",
       "      <th>755</th>\n",
       "      <td>756</td>\n",
       "      <td>1</td>\n",
       "      <td>2</td>\n",
       "      <td>Hamalainen, Master. Viljo</td>\n",
       "      <td>male</td>\n",
       "      <td>0.67</td>\n",
       "      <td>1</td>\n",
       "      <td>1</td>\n",
       "      <td>250649</td>\n",
       "      <td>14.5000</td>\n",
       "      <td>NaN</td>\n",
       "      <td>S</td>\n",
       "    </tr>\n",
       "    <tr>\n",
       "      <th>803</th>\n",
       "      <td>804</td>\n",
       "      <td>1</td>\n",
       "      <td>3</td>\n",
       "      <td>Thomas, Master. Assad Alexander</td>\n",
       "      <td>male</td>\n",
       "      <td>0.42</td>\n",
       "      <td>0</td>\n",
       "      <td>1</td>\n",
       "      <td>2625</td>\n",
       "      <td>8.5167</td>\n",
       "      <td>NaN</td>\n",
       "      <td>C</td>\n",
       "    </tr>\n",
       "    <tr>\n",
       "      <th>831</th>\n",
       "      <td>832</td>\n",
       "      <td>1</td>\n",
       "      <td>2</td>\n",
       "      <td>Richards, Master. George Sibley</td>\n",
       "      <td>male</td>\n",
       "      <td>0.83</td>\n",
       "      <td>1</td>\n",
       "      <td>1</td>\n",
       "      <td>29106</td>\n",
       "      <td>18.7500</td>\n",
       "      <td>NaN</td>\n",
       "      <td>S</td>\n",
       "    </tr>\n",
       "  </tbody>\n",
       "</table>\n",
       "</div>"
      ],
      "text/plain": [
       "     PassengerId  Survived  Pclass                             Name     Sex  \\\n",
       "78            79         1       2    Caldwell, Master. Alden Gates    male   \n",
       "305          306         1       1   Allison, Master. Hudson Trevor    male   \n",
       "469          470         1       3    Baclini, Miss. Helene Barbara  female   \n",
       "644          645         1       3           Baclini, Miss. Eugenie  female   \n",
       "755          756         1       2        Hamalainen, Master. Viljo    male   \n",
       "803          804         1       3  Thomas, Master. Assad Alexander    male   \n",
       "831          832         1       2  Richards, Master. George Sibley    male   \n",
       "\n",
       "      Age  SibSp  Parch  Ticket      Fare    Cabin Embarked  \n",
       "78   0.83      0      2  248738   29.0000      NaN        S  \n",
       "305  0.92      1      2  113781  151.5500  C22 C26        S  \n",
       "469  0.75      2      1    2666   19.2583      NaN        C  \n",
       "644  0.75      2      1    2666   19.2583      NaN        C  \n",
       "755  0.67      1      1  250649   14.5000      NaN        S  \n",
       "803  0.42      0      1    2625    8.5167      NaN        C  \n",
       "831  0.83      1      1   29106   18.7500      NaN        S  "
      ]
     },
     "execution_count": 7,
     "metadata": {},
     "output_type": "execute_result"
    }
   ],
   "source": [
    "# Saw 7 entries that are less than 1. Looking at their names, I see prefix \"Master\",\n",
    "# which is what is given to children. In these case, these were babies below the age of 1.\n",
    "non_whole = titanic_df['Age'] < 1\n",
    "titanic_df[non_whole]"
   ]
  },
  {
   "cell_type": "code",
   "execution_count": 8,
   "metadata": {
    "collapsed": false
   },
   "outputs": [
    {
     "data": {
      "text/html": [
       "<div>\n",
       "<table border=\"1\" class=\"dataframe\">\n",
       "  <thead>\n",
       "    <tr style=\"text-align: right;\">\n",
       "      <th></th>\n",
       "      <th>PassengerId</th>\n",
       "      <th>Survived</th>\n",
       "      <th>Pclass</th>\n",
       "      <th>Name</th>\n",
       "      <th>Sex</th>\n",
       "      <th>Age</th>\n",
       "      <th>SibSp</th>\n",
       "      <th>Parch</th>\n",
       "      <th>Ticket</th>\n",
       "      <th>Fare</th>\n",
       "      <th>Cabin</th>\n",
       "      <th>Embarked</th>\n",
       "    </tr>\n",
       "  </thead>\n",
       "  <tbody>\n",
       "    <tr>\n",
       "      <th>0</th>\n",
       "      <td>1</td>\n",
       "      <td>0</td>\n",
       "      <td>3</td>\n",
       "      <td>Braund, Mr. Owen Harris</td>\n",
       "      <td>male</td>\n",
       "      <td>22.0</td>\n",
       "      <td>1</td>\n",
       "      <td>0</td>\n",
       "      <td>A/5 21171</td>\n",
       "      <td>7.2500</td>\n",
       "      <td>NaN</td>\n",
       "      <td>S</td>\n",
       "    </tr>\n",
       "    <tr>\n",
       "      <th>1</th>\n",
       "      <td>2</td>\n",
       "      <td>1</td>\n",
       "      <td>1</td>\n",
       "      <td>Cumings, Mrs. John Bradley (Florence Briggs Th...</td>\n",
       "      <td>female</td>\n",
       "      <td>38.0</td>\n",
       "      <td>1</td>\n",
       "      <td>0</td>\n",
       "      <td>PC 17599</td>\n",
       "      <td>71.2833</td>\n",
       "      <td>C85</td>\n",
       "      <td>C</td>\n",
       "    </tr>\n",
       "    <tr>\n",
       "      <th>2</th>\n",
       "      <td>3</td>\n",
       "      <td>1</td>\n",
       "      <td>3</td>\n",
       "      <td>Heikkinen, Miss. Laina</td>\n",
       "      <td>female</td>\n",
       "      <td>26.0</td>\n",
       "      <td>0</td>\n",
       "      <td>0</td>\n",
       "      <td>STON/O2. 3101282</td>\n",
       "      <td>7.9250</td>\n",
       "      <td>NaN</td>\n",
       "      <td>S</td>\n",
       "    </tr>\n",
       "    <tr>\n",
       "      <th>3</th>\n",
       "      <td>4</td>\n",
       "      <td>1</td>\n",
       "      <td>1</td>\n",
       "      <td>Futrelle, Mrs. Jacques Heath (Lily May Peel)</td>\n",
       "      <td>female</td>\n",
       "      <td>35.0</td>\n",
       "      <td>1</td>\n",
       "      <td>0</td>\n",
       "      <td>113803</td>\n",
       "      <td>53.1000</td>\n",
       "      <td>C123</td>\n",
       "      <td>S</td>\n",
       "    </tr>\n",
       "    <tr>\n",
       "      <th>4</th>\n",
       "      <td>5</td>\n",
       "      <td>0</td>\n",
       "      <td>3</td>\n",
       "      <td>Allen, Mr. William Henry</td>\n",
       "      <td>male</td>\n",
       "      <td>35.0</td>\n",
       "      <td>0</td>\n",
       "      <td>0</td>\n",
       "      <td>373450</td>\n",
       "      <td>8.0500</td>\n",
       "      <td>NaN</td>\n",
       "      <td>S</td>\n",
       "    </tr>\n",
       "  </tbody>\n",
       "</table>\n",
       "</div>"
      ],
      "text/plain": [
       "   PassengerId  Survived  Pclass  \\\n",
       "0            1         0       3   \n",
       "1            2         1       1   \n",
       "2            3         1       3   \n",
       "3            4         1       1   \n",
       "4            5         0       3   \n",
       "\n",
       "                                                Name     Sex   Age  SibSp  \\\n",
       "0                            Braund, Mr. Owen Harris    male  22.0      1   \n",
       "1  Cumings, Mrs. John Bradley (Florence Briggs Th...  female  38.0      1   \n",
       "2                             Heikkinen, Miss. Laina  female  26.0      0   \n",
       "3       Futrelle, Mrs. Jacques Heath (Lily May Peel)  female  35.0      1   \n",
       "4                           Allen, Mr. William Henry    male  35.0      0   \n",
       "\n",
       "   Parch            Ticket     Fare Cabin Embarked  \n",
       "0      0         A/5 21171   7.2500   NaN        S  \n",
       "1      0          PC 17599  71.2833   C85        C  \n",
       "2      0  STON/O2. 3101282   7.9250   NaN        S  \n",
       "3      0            113803  53.1000  C123        S  \n",
       "4      0            373450   8.0500   NaN        S  "
      ]
     },
     "execution_count": 8,
     "metadata": {},
     "output_type": "execute_result"
    }
   ],
   "source": [
    "# I check the head of the data set.\n",
    "titanic_df.head()"
   ]
  },
  {
   "cell_type": "code",
   "execution_count": 9,
   "metadata": {
    "collapsed": false
   },
   "outputs": [
    {
     "data": {
      "text/html": [
       "<div>\n",
       "<table border=\"1\" class=\"dataframe\">\n",
       "  <thead>\n",
       "    <tr style=\"text-align: right;\">\n",
       "      <th></th>\n",
       "      <th>PassengerId</th>\n",
       "      <th>Survived</th>\n",
       "      <th>Pclass</th>\n",
       "      <th>Name</th>\n",
       "      <th>Sex</th>\n",
       "      <th>Age</th>\n",
       "      <th>SibSp</th>\n",
       "      <th>Parch</th>\n",
       "      <th>Ticket</th>\n",
       "      <th>Fare</th>\n",
       "      <th>Cabin</th>\n",
       "      <th>Embarked</th>\n",
       "    </tr>\n",
       "  </thead>\n",
       "  <tbody>\n",
       "    <tr>\n",
       "      <th>886</th>\n",
       "      <td>887</td>\n",
       "      <td>0</td>\n",
       "      <td>2</td>\n",
       "      <td>Montvila, Rev. Juozas</td>\n",
       "      <td>male</td>\n",
       "      <td>27.0</td>\n",
       "      <td>0</td>\n",
       "      <td>0</td>\n",
       "      <td>211536</td>\n",
       "      <td>13.00</td>\n",
       "      <td>NaN</td>\n",
       "      <td>S</td>\n",
       "    </tr>\n",
       "    <tr>\n",
       "      <th>887</th>\n",
       "      <td>888</td>\n",
       "      <td>1</td>\n",
       "      <td>1</td>\n",
       "      <td>Graham, Miss. Margaret Edith</td>\n",
       "      <td>female</td>\n",
       "      <td>19.0</td>\n",
       "      <td>0</td>\n",
       "      <td>0</td>\n",
       "      <td>112053</td>\n",
       "      <td>30.00</td>\n",
       "      <td>B42</td>\n",
       "      <td>S</td>\n",
       "    </tr>\n",
       "    <tr>\n",
       "      <th>888</th>\n",
       "      <td>889</td>\n",
       "      <td>0</td>\n",
       "      <td>3</td>\n",
       "      <td>Johnston, Miss. Catherine Helen \"Carrie\"</td>\n",
       "      <td>female</td>\n",
       "      <td>NaN</td>\n",
       "      <td>1</td>\n",
       "      <td>2</td>\n",
       "      <td>W./C. 6607</td>\n",
       "      <td>23.45</td>\n",
       "      <td>NaN</td>\n",
       "      <td>S</td>\n",
       "    </tr>\n",
       "    <tr>\n",
       "      <th>889</th>\n",
       "      <td>890</td>\n",
       "      <td>1</td>\n",
       "      <td>1</td>\n",
       "      <td>Behr, Mr. Karl Howell</td>\n",
       "      <td>male</td>\n",
       "      <td>26.0</td>\n",
       "      <td>0</td>\n",
       "      <td>0</td>\n",
       "      <td>111369</td>\n",
       "      <td>30.00</td>\n",
       "      <td>C148</td>\n",
       "      <td>C</td>\n",
       "    </tr>\n",
       "    <tr>\n",
       "      <th>890</th>\n",
       "      <td>891</td>\n",
       "      <td>0</td>\n",
       "      <td>3</td>\n",
       "      <td>Dooley, Mr. Patrick</td>\n",
       "      <td>male</td>\n",
       "      <td>32.0</td>\n",
       "      <td>0</td>\n",
       "      <td>0</td>\n",
       "      <td>370376</td>\n",
       "      <td>7.75</td>\n",
       "      <td>NaN</td>\n",
       "      <td>Q</td>\n",
       "    </tr>\n",
       "  </tbody>\n",
       "</table>\n",
       "</div>"
      ],
      "text/plain": [
       "     PassengerId  Survived  Pclass                                      Name  \\\n",
       "886          887         0       2                     Montvila, Rev. Juozas   \n",
       "887          888         1       1              Graham, Miss. Margaret Edith   \n",
       "888          889         0       3  Johnston, Miss. Catherine Helen \"Carrie\"   \n",
       "889          890         1       1                     Behr, Mr. Karl Howell   \n",
       "890          891         0       3                       Dooley, Mr. Patrick   \n",
       "\n",
       "        Sex   Age  SibSp  Parch      Ticket   Fare Cabin Embarked  \n",
       "886    male  27.0      0      0      211536  13.00   NaN        S  \n",
       "887  female  19.0      0      0      112053  30.00   B42        S  \n",
       "888  female   NaN      1      2  W./C. 6607  23.45   NaN        S  \n",
       "889    male  26.0      0      0      111369  30.00  C148        C  \n",
       "890    male  32.0      0      0      370376   7.75   NaN        Q  "
      ]
     },
     "execution_count": 9,
     "metadata": {},
     "output_type": "execute_result"
    }
   ],
   "source": [
    "# and the tail.\n",
    "titanic_df.tail()"
   ]
  },
  {
   "cell_type": "code",
   "execution_count": 10,
   "metadata": {
    "collapsed": false,
    "nbpresent": {
     "id": "c623ef57-3347-45df-ae23-30a73d1b9325"
    }
   },
   "outputs": [
    {
     "name": "stdout",
     "output_type": "stream",
     "text": [
      "There are 177 logs with their Age not specified.\n"
     ]
    }
   ],
   "source": [
    "# Looking Age col, I see that there are some empty fields. I check how many there are.\n",
    "missing_age = titanic_df['Age'].isnull()\n",
    "print 'There are {} logs with their Age not specified.'.format(missing_age.sum())"
   ]
  },
  {
   "cell_type": "markdown",
   "metadata": {
    "collapsed": false
   },
   "source": [
    "\n",
    "### Women and Children First\n",
    "<p>Knowing that there are 177 logs that does not have age specified will affect the analysis if we base our analysis of the 2nd question on the Age. I attempt to limit the descrepency created by the age problem by rephrasing my question to distinguish the survivability between women and children vs Male adult passengers.</p>"
   ]
  },
  {
   "cell_type": "code",
   "execution_count": 15,
   "metadata": {
    "collapsed": false,
    "scrolled": true
   },
   "outputs": [
    {
     "name": "stdout",
     "output_type": "stream",
     "text": [
      "Of the 342 passengers that survived from the sample of 891 on the data provided, 259 are women and children.\n"
     ]
    },
    {
     "name": "stderr",
     "output_type": "stream",
     "text": [
      "D:\\Shop\\Data\\Anaconda3\\envs\\DAND\\lib\\site-packages\\ipykernel\\__main__.py:8: SettingWithCopyWarning: \n",
      "A value is trying to be set on a copy of a slice from a DataFrame\n",
      "\n",
      "See the caveats in the documentation: http://pandas.pydata.org/pandas-docs/stable/indexing.html#indexing-view-versus-copy\n"
     ]
    }
   ],
   "source": [
    "titanic_df['womChil'] = 0 # Created a column that groups women and children.\n",
    "women = titanic_df['Sex'] == 'female' # Criteria - all female passengers.\n",
    "child = titanic_df['Age'] < 19 # Criteria - all children under the age of 18 years.\n",
    "# Passengers with missing age, I identify the children from the group of male passengers by looking \n",
    "# for the title 'Master' in their Names, which are titles given to minors on board without their\n",
    "# parents.\n",
    "masters = titanic_df['Name'].str.contains('Master') # Criteria all male children.\n",
    "titanic_df['womChil'][women | child | masters] = 1 # Add 1 (yes) that fits the criterias\n",
    "women_children = titanic_df.groupby('womChil') # Group passengers Women and Children.\n",
    "women_children_survived = women_children['Survived'] == 1\n",
    "women_children_survived = women_children.sum()['Survived'].iloc[1]\n",
    "print \"Of the 342 passengers that survived from the sample of 891 on the data provided, {} are \\\n",
    "women and children.\".format(women_children_survived)"
   ]
  },
  {
   "cell_type": "code",
   "execution_count": null,
   "metadata": {
    "collapsed": false
   },
   "outputs": [],
   "source": [
    "# At this point, it did not occur to me to check how many survived from the data provided \n",
    "# with list of 891 names. So I quickly check and saw that out of 891 passengers on the data\n",
    "# provided there are 342 passengers that survived.\n",
    "survived = titanic_df['Survived']\n",
    "survived.sum()"
   ]
  },
  {
   "cell_type": "code",
   "execution_count": null,
   "metadata": {
    "collapsed": false
   },
   "outputs": [],
   "source": [
    "# Knowing that 83 of the passengers fit the criteria of women and children, I double check on\n",
    "# the remianing survivors that does not have age specified and see if there are clues that I can\n",
    "# find to distinguish them as women or children.\n",
    "non_womChil = titanic_df['womChil'] == 0\n",
    "titanic_df[non_womChil & survived & missing_age].sort(['Pclass'])"
   ]
  },
  {
   "cell_type": "code",
   "execution_count": null,
   "metadata": {
    "collapsed": false,
    "nbpresent": {
     "id": "93fbe841-5869-4f2b-9ac0-0af2daa71259"
    },
    "scrolled": true
   },
   "outputs": [],
   "source": [
    "# I check quickly the values with describe to find out if there are more inconsistencies.\n",
    "titanic_df.describe()"
   ]
  },
  {
   "cell_type": "code",
   "execution_count": null,
   "metadata": {
    "collapsed": false,
    "nbpresent": {
     "id": "c652c1a9-6813-4e57-afd8-56c871670e73"
    }
   },
   "outputs": [],
   "source": [
    "# I check if the Sex is missing values. It seems that everything is in order.\n",
    "male = titanic_df['Sex'] == 'male'\n",
    "female = titanic_df['Sex'] == 'female'\n",
    "total_sex = female.sum() + male.sum()\n",
    "\"There are {} males and {} females on board. Total of {} people\".format(male.sum(), \\\n",
    "                                                                female.sum(), total_sex.sum())"
   ]
  },
  {
   "cell_type": "code",
   "execution_count": null,
   "metadata": {
    "collapsed": true,
    "nbpresent": {
     "id": "c95048ae-1e02-47a8-ab08-e1e3d60e367d"
    }
   },
   "outputs": [],
   "source": [
    "# I decide to only use PassengerId, Survived, Pclas, Sex, Age and Fare columns for my analysis.\n",
    "# I removed the rest of the columns that I do need.\n",
    "titanic_df_neat = titanic_df.drop([])"
   ]
  }
 ],
 "metadata": {
  "anaconda-cloud": {},
  "kernelspec": {
   "display_name": "Python [conda env:DAND]",
   "language": "python",
   "name": "conda-env-DAND-py"
  },
  "language_info": {
   "codemirror_mode": {
    "name": "ipython",
    "version": 2
   },
   "file_extension": ".py",
   "mimetype": "text/x-python",
   "name": "python",
   "nbconvert_exporter": "python",
   "pygments_lexer": "ipython2",
   "version": "2.7.12"
  },
  "nbpresent": {
   "slides": {
    "130fcacf-da4f-4a91-963a-25663a2459e7": {
     "id": "130fcacf-da4f-4a91-963a-25663a2459e7",
     "prev": "2c56d088-02d9-46a6-bb43-be76eeea4444",
     "regions": {
      "da6ddefa-6018-4947-a4d6-302ba768b3ae": {
       "attrs": {
        "height": 0.8,
        "width": 0.8,
        "x": 0.1,
        "y": 0.1
       },
       "content": {
        "cell": "f6ac47b4-6059-4202-92ef-ecddcbdb0f39",
        "part": "whole"
       },
       "id": "da6ddefa-6018-4947-a4d6-302ba768b3ae"
      }
     }
    },
    "2c56d088-02d9-46a6-bb43-be76eeea4444": {
     "id": "2c56d088-02d9-46a6-bb43-be76eeea4444",
     "prev": "a0d3b74d-d317-45d4-ab8a-20a7bc7d8be1",
     "regions": {
      "c764fde9-fb83-4ad4-8606-3d85e7eee643": {
       "attrs": {
        "height": 0.8,
        "width": 0.8,
        "x": 0.1,
        "y": 0.1
       },
       "content": {
        "cell": "6407e209-946d-478a-af79-a0987c6d20a2",
        "part": "whole"
       },
       "id": "c764fde9-fb83-4ad4-8606-3d85e7eee643"
      }
     }
    },
    "522a24a3-93ba-47b7-be77-325975dd43dd": {
     "id": "522a24a3-93ba-47b7-be77-325975dd43dd",
     "prev": null,
     "regions": {
      "66e96394-1a35-4e07-872a-ef6da57c2d88": {
       "attrs": {
        "height": 0.8,
        "width": 0.8,
        "x": 0.1,
        "y": 0.1
       },
       "content": {
        "cell": "b965ebb4-cfec-494e-a51d-6cc3798eafef",
        "part": "whole"
       },
       "id": "66e96394-1a35-4e07-872a-ef6da57c2d88"
      }
     }
    },
    "60af16f7-da88-4d57-a263-0f872492b05c": {
     "id": "60af16f7-da88-4d57-a263-0f872492b05c",
     "prev": "702dbca2-a666-4aa6-9e98-2beb66b2169b",
     "regions": {
      "c1317bcd-a343-4a65-b512-a37ba30c1967": {
       "attrs": {
        "height": 0.8,
        "width": 0.8,
        "x": 0.1,
        "y": 0.1
       },
       "content": {
        "cell": "253cad34-af7f-482e-9fa3-b85afbc8bad9",
        "part": "whole"
       },
       "id": "c1317bcd-a343-4a65-b512-a37ba30c1967"
      }
     }
    },
    "6fab697a-43e2-4b02-8499-d767c11d4e5d": {
     "id": "6fab697a-43e2-4b02-8499-d767c11d4e5d",
     "prev": "f3e02925-fdf4-4060-bb84-06cc223e6fd7",
     "regions": {
      "59ba1c76-ebe2-429e-9ea1-2ee404129152": {
       "attrs": {
        "height": 0.8,
        "width": 0.8,
        "x": 0.1,
        "y": 0.1
       },
       "content": {
        "cell": "98e4170e-4654-469b-9f44-ada2e22dfc49",
        "part": "whole"
       },
       "id": "59ba1c76-ebe2-429e-9ea1-2ee404129152"
      }
     }
    },
    "702dbca2-a666-4aa6-9e98-2beb66b2169b": {
     "id": "702dbca2-a666-4aa6-9e98-2beb66b2169b",
     "prev": "522a24a3-93ba-47b7-be77-325975dd43dd",
     "regions": {
      "dd18b44c-b35b-47ce-b5dc-468b6a996c3c": {
       "attrs": {
        "height": 0.8,
        "width": 0.8,
        "x": 0.1,
        "y": 0.1
       },
       "content": {
        "cell": "97b004bf-4f22-445f-a251-ad27afb7501a",
        "part": "whole"
       },
       "id": "dd18b44c-b35b-47ce-b5dc-468b6a996c3c"
      }
     }
    },
    "90314b07-9f84-4733-957a-d2cfbca7ab89": {
     "id": "90314b07-9f84-4733-957a-d2cfbca7ab89",
     "prev": "130fcacf-da4f-4a91-963a-25663a2459e7",
     "regions": {
      "76248e5e-174c-4b96-9ada-9c1d04e81f4b": {
       "attrs": {
        "height": 0.8,
        "width": 0.8,
        "x": 0.1,
        "y": 0.1
       },
       "content": {
        "cell": "c86c3685-daff-41de-8928-6bb388eb3129",
        "part": "whole"
       },
       "id": "76248e5e-174c-4b96-9ada-9c1d04e81f4b"
      }
     }
    },
    "a0d3b74d-d317-45d4-ab8a-20a7bc7d8be1": {
     "id": "a0d3b74d-d317-45d4-ab8a-20a7bc7d8be1",
     "prev": "60af16f7-da88-4d57-a263-0f872492b05c",
     "regions": {
      "10a299a0-e1f6-4791-9840-41818fab248d": {
       "attrs": {
        "height": 0.8,
        "width": 0.8,
        "x": 0.1,
        "y": 0.1
       },
       "content": {
        "cell": "107da756-ff93-4e40-9c0e-92ccbd968da3",
        "part": "whole"
       },
       "id": "10a299a0-e1f6-4791-9840-41818fab248d"
      }
     }
    },
    "aae94cb6-85c2-4058-a74e-71c6322380b0": {
     "id": "aae94cb6-85c2-4058-a74e-71c6322380b0",
     "prev": "caaad660-3a64-4e83-8943-1e7f8ed0cbb1",
     "regions": {
      "662f4648-b27e-4b77-b4ba-2df7a205edcc": {
       "attrs": {
        "height": 0.8,
        "width": 0.8,
        "x": 0.1,
        "y": 0.1
       },
       "content": {
        "cell": "c652c1a9-6813-4e57-afd8-56c871670e73",
        "part": "whole"
       },
       "id": "662f4648-b27e-4b77-b4ba-2df7a205edcc"
      }
     }
    },
    "c785b3a0-3ccb-4786-92c8-346c501bea55": {
     "id": "c785b3a0-3ccb-4786-92c8-346c501bea55",
     "prev": "aae94cb6-85c2-4058-a74e-71c6322380b0",
     "regions": {
      "b7f14a33-20ac-4570-a18e-8704b060596f": {
       "attrs": {
        "height": 0.8,
        "width": 0.8,
        "x": 0.1,
        "y": 0.1
       },
       "content": {
        "cell": "c95048ae-1e02-47a8-ab08-e1e3d60e367d",
        "part": "whole"
       },
       "id": "b7f14a33-20ac-4570-a18e-8704b060596f"
      }
     }
    },
    "caaad660-3a64-4e83-8943-1e7f8ed0cbb1": {
     "id": "caaad660-3a64-4e83-8943-1e7f8ed0cbb1",
     "prev": "fc847827-43f4-4ddc-b6ec-bf05c03ec526",
     "regions": {
      "be6bacd1-7779-43ed-92ff-ba55a1f8fdf7": {
       "attrs": {
        "height": 0.8,
        "width": 0.8,
        "x": 0.1,
        "y": 0.1
       },
       "content": {
        "cell": "93fbe841-5869-4f2b-9ac0-0af2daa71259",
        "part": "whole"
       },
       "id": "be6bacd1-7779-43ed-92ff-ba55a1f8fdf7"
      }
     }
    },
    "f3e02925-fdf4-4060-bb84-06cc223e6fd7": {
     "id": "f3e02925-fdf4-4060-bb84-06cc223e6fd7",
     "prev": "90314b07-9f84-4733-957a-d2cfbca7ab89",
     "regions": {
      "f1401efe-88ce-4430-beec-048072d6a770": {
       "attrs": {
        "height": 0.8,
        "width": 0.8,
        "x": 0.1,
        "y": 0.1
       },
       "content": {
        "cell": "28678540-1c36-45a6-8b0d-6a3d50e16b46",
        "part": "whole"
       },
       "id": "f1401efe-88ce-4430-beec-048072d6a770"
      }
     }
    },
    "fc847827-43f4-4ddc-b6ec-bf05c03ec526": {
     "id": "fc847827-43f4-4ddc-b6ec-bf05c03ec526",
     "prev": "6fab697a-43e2-4b02-8499-d767c11d4e5d",
     "regions": {
      "294ec446-b6f9-43c3-94bc-836ae942e7d6": {
       "attrs": {
        "height": 0.8,
        "width": 0.8,
        "x": 0.1,
        "y": 0.1
       },
       "content": {
        "cell": "c623ef57-3347-45df-ae23-30a73d1b9325",
        "part": "whole"
       },
       "id": "294ec446-b6f9-43c3-94bc-836ae942e7d6"
      }
     }
    }
   },
   "themes": {
    "default": "fda2f5ee-fc2a-497c-9d7f-fb89417dbf8e",
    "theme": {}
   }
  }
 },
 "nbformat": 4,
 "nbformat_minor": 2
}
